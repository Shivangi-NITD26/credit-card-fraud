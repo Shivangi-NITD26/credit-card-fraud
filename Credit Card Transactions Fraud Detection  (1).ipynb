{
 "cells": [
  {
   "cell_type": "markdown",
   "id": "3204e0d4-7cbc-41ef-b792-52d5a84cb523",
   "metadata": {},
   "source": [
    "# Credit Card Transactions Fraud Detection"
   ]
  },
  {
   "cell_type": "code",
   "execution_count": null,
   "id": "8b578e61-27fe-43b4-8dda-486b9d06919a",
   "metadata": {},
   "outputs": [],
   "source": [
    "import numpy as np\n",
    "import pandas as pd\n",
    "import seaborn as sns\n",
    "import matplotlib.pyplot as plt\n",
    "%matplotlib inline\n",
    "from sklearn.preprocessing import StandardScaler\n",
    "from sklearn.linear_model import LogisticRegression\n",
    "from sklearn.tree import DecisionTreeClassifier\n",
    "from sklearn.ensemble import RandomForestClassifier\n",
    "from sklearn.metrics import classification_report, roc_auc_score"
   ]
  },
  {
   "cell_type": "code",
   "execution_count": null,
   "id": "26664d6f-7c59-45c7-8e55-195adf103c74",
   "metadata": {},
   "outputs": [],
   "source": [
    "train_data = pd.read_csv(\"fraudTrain.csv\")\n",
    "test_data = pd.read_csv(\"fraudTest.csv\")"
   ]
  },
  {
   "cell_type": "code",
   "execution_count": null,
   "id": "d6618edd-4b57-4d88-b2d4-2aba56510a65",
   "metadata": {},
   "outputs": [],
   "source": [
    "print(train_data.columns.tolist())"
   ]
  },
  {
   "cell_type": "code",
   "execution_count": null,
   "id": "0163f2fb-0af2-4d6f-afc4-e05ac8b0d1b3",
   "metadata": {},
   "outputs": [],
   "source": [
    "train_data.head()"
   ]
  },
  {
   "cell_type": "code",
   "execution_count": null,
   "id": "c9e6d573-306e-4eaf-9c55-6bd60f73dcdd",
   "metadata": {},
   "outputs": [],
   "source": [
    "test_data.head()"
   ]
  },
  {
   "cell_type": "code",
   "execution_count": null,
   "id": "60861683-ae61-4052-b750-9d8271a5547e",
   "metadata": {},
   "outputs": [],
   "source": [
    "train_data.tail()"
   ]
  },
  {
   "cell_type": "code",
   "execution_count": null,
   "id": "a8e6882d-fe30-4f62-90f1-7528a9c2dcb6",
   "metadata": {},
   "outputs": [],
   "source": [
    "test_data.tail()"
   ]
  },
  {
   "cell_type": "code",
   "execution_count": null,
   "id": "0d4c5a43-bbcc-4edf-ad18-89382c0f95f3",
   "metadata": {},
   "outputs": [],
   "source": [
    "train_data.info()"
   ]
  },
  {
   "cell_type": "code",
   "execution_count": null,
   "id": "6fcd4835-91d7-4919-a890-dd1ed3254c6a",
   "metadata": {},
   "outputs": [],
   "source": [
    "test_data.info()"
   ]
  },
  {
   "cell_type": "code",
   "execution_count": null,
   "id": "9daffd42-40a7-4d74-ab58-8e11e0332cfd",
   "metadata": {},
   "outputs": [],
   "source": [
    "train_data.isnull().sum()"
   ]
  },
  {
   "cell_type": "code",
   "execution_count": null,
   "id": "c64ef7eb-3b9c-453b-94a4-011b6295a169",
   "metadata": {},
   "outputs": [],
   "source": [
    "test_data.isnull().sum()"
   ]
  },
  {
   "cell_type": "code",
   "execution_count": null,
   "id": "0a03e801-cbde-49fc-b6d5-9aad57471865",
   "metadata": {},
   "outputs": [],
   "source": [
    "train_data['is_fraud'].value_counts()"
   ]
  },
  {
   "cell_type": "code",
   "execution_count": null,
   "id": "fbaecda3-7aa0-4963-b970-5e8f16f0ba6c",
   "metadata": {},
   "outputs": [],
   "source": [
    "test_data['is_fraud'].value_counts()"
   ]
  },
  {
   "cell_type": "markdown",
   "id": "0257045b-227f-4541-9ad2-67ceefcd896d",
   "metadata": {},
   "source": [
    "\n",
    "0 - Normal Transaction\n",
    "\n",
    "1 - fraudulent transaction\n"
   ]
  },
  {
   "cell_type": "code",
   "execution_count": null,
   "id": "0824d8de-c553-44a2-9863-8d3008d5f3e4",
   "metadata": {},
   "outputs": [],
   "source": [
    "train_data.dtypes"
   ]
  },
  {
   "cell_type": "code",
   "execution_count": null,
   "id": "f4d9d4c2-9cfb-4bfc-b779-bb8f7892bb10",
   "metadata": {},
   "outputs": [],
   "source": [
    "test_data.dtypes"
   ]
  },
  {
   "cell_type": "code",
   "execution_count": null,
   "id": "8aaf35c1-468d-41b7-a6ff-ccdd1fe8d769",
   "metadata": {},
   "outputs": [],
   "source": [
    "# separating the data for analysis\n",
    "legit_train = train_data[train_data.is_fraud == 0]\n",
    "fraud_train= train_data[train_data.is_fraud == 1]"
   ]
  },
  {
   "cell_type": "code",
   "execution_count": null,
   "id": "04d8ceff-115e-402c-9b9e-cf420e8a3e1d",
   "metadata": {},
   "outputs": [],
   "source": [
    "print(legit_train.shape)\n",
    "print(fraud_train.shape)"
   ]
  },
  {
   "cell_type": "code",
   "execution_count": null,
   "id": "f23fd932-962d-4998-ab63-14cefc3a3085",
   "metadata": {},
   "outputs": [],
   "source": [
    "legit_test = test_data[test_data.is_fraud == 0]\n",
    "fraud_test= test_data[test_data.is_fraud == 1]"
   ]
  },
  {
   "cell_type": "code",
   "execution_count": null,
   "id": "6b494f0d-d14c-4fe8-b2ce-f8acb1c32206",
   "metadata": {},
   "outputs": [],
   "source": [
    "print(legit_test.shape)\n",
    "print(fraud_test.shape)"
   ]
  },
  {
   "cell_type": "markdown",
   "id": "e73828f4-6080-4d02-96be-c482530e6ef4",
   "metadata": {},
   "source": [
    "### Feature Engineering"
   ]
  },
  {
   "cell_type": "code",
   "execution_count": null,
   "id": "6d8c5935-aa80-4a95-bae6-f4be66cc0258",
   "metadata": {},
   "outputs": [],
   "source": [
    "#converting all non numerical type column into numerical column\n",
    "non_numeric_cols = train_data.select_dtypes(include=['object', 'category', 'datetime']).columns\n",
    "print(\"Non-numeric columns:\", non_numeric_cols)"
   ]
  },
  {
   "cell_type": "code",
   "execution_count": null,
   "id": "ab21188a-f4e3-4730-9e30-ffd832fc43ba",
   "metadata": {},
   "outputs": [],
   "source": [
    "non_numeric_cols = test_data.select_dtypes(include=['object', 'category', 'datetime']).columns\n",
    "print(\"Non-numeric columns:\", non_numeric_cols)"
   ]
  },
  {
   "cell_type": "code",
   "execution_count": null,
   "id": "a8429a90-9444-4ebb-952c-19c7ce3ab4eb",
   "metadata": {
    "scrolled": true
   },
   "outputs": [],
   "source": [
    "non_numeric_traindata = pd.read_csv('fraudTrain.csv',usecols=['trans_date_trans_time', 'merchant', 'category', 'first', 'last',\n",
    "       'gender', 'street', 'city', 'state', 'job', 'dob', 'trans_num'])\n",
    "non_numeric_traindata.head()"
   ]
  },
  {
   "cell_type": "code",
   "execution_count": null,
   "id": "3387b938-f2d6-4565-8f7b-fa364bc935bd",
   "metadata": {
    "scrolled": true
   },
   "outputs": [],
   "source": [
    "non_numeric_testdata = pd.read_csv('fraudTest.csv',usecols=['trans_date_trans_time', 'merchant', 'category', 'first', 'last',\n",
    "       'gender', 'street', 'city', 'state', 'job', 'dob', 'trans_num'])\n",
    "non_numeric_testdata.head()"
   ]
  },
  {
   "cell_type": "code",
   "execution_count": null,
   "id": "66766e4d-f720-4957-8c5f-2c8ee81ad9fa",
   "metadata": {},
   "outputs": [],
   "source": [
    "for col in non_numeric_traindata.columns:\n",
    "    print(col, ': ',len(non_numeric_traindata[col].unique()), 'labels')"
   ]
  },
  {
   "cell_type": "code",
   "execution_count": null,
   "id": "ad2d8ab9-4a3b-41ad-b9e5-3b636db04af7",
   "metadata": {},
   "outputs": [],
   "source": [
    "for col in non_numeric_testdata.columns:\n",
    "    print(col, ': ',len(non_numeric_testdata[col].unique()), 'labels')"
   ]
  },
  {
   "cell_type": "code",
   "execution_count": null,
   "id": "1f263f05-ab45-470c-a5b0-a23926e6362f",
   "metadata": {},
   "outputs": [],
   "source": [
    "train_data.drop(columns=['trans_num', 'unix_time','Unnamed: 0','first','last','street'], inplace=True)\n"
   ]
  },
  {
   "cell_type": "code",
   "execution_count": null,
   "id": "bfe3613c-83e7-4522-91e9-fe280f55ecca",
   "metadata": {},
   "outputs": [],
   "source": [
    "test_data.drop(columns=['trans_num', 'unix_time', 'Unnamed: 0','first','last','street'], inplace=True)\n"
   ]
  },
  {
   "cell_type": "code",
   "execution_count": null,
   "id": "9b922819-7ec5-4fe6-9f52-10577fd8e678",
   "metadata": {},
   "outputs": [],
   "source": [
    "print(train_data.columns.tolist())"
   ]
  },
  {
   "cell_type": "code",
   "execution_count": null,
   "id": "f748ffbe-b128-41c7-95bc-8c2d1b493863",
   "metadata": {},
   "outputs": [],
   "source": [
    "train_data = pd.get_dummies(train_data, columns=['gender'], drop_first=True)"
   ]
  },
  {
   "cell_type": "code",
   "execution_count": null,
   "id": "43034112-89b0-4e82-9a6e-dd553d39df93",
   "metadata": {},
   "outputs": [],
   "source": [
    "test_data = pd.get_dummies(test_data, columns=['gender'], drop_first=True)"
   ]
  },
  {
   "cell_type": "code",
   "execution_count": null,
   "id": "3089fa57-3b4c-4cae-9447-d7d4d1097f7e",
   "metadata": {},
   "outputs": [],
   "source": [
    "train_data['trans_date_trans_time'] = pd.to_datetime(train_data['trans_date_trans_time'])\n",
    "train_data['hour'] = train_data['trans_date_trans_time'].dt.hour\n",
    "train_data['day'] = train_data['trans_date_trans_time'].dt.day\n",
    "train_data['weekday'] = train_data['trans_date_trans_time'].dt.weekday\n",
    "train_data['month'] = train_data['trans_date_trans_time'].dt.month\n"
   ]
  },
  {
   "cell_type": "code",
   "execution_count": null,
   "id": "938f74e8-e742-4b2d-86d9-5a255024d863",
   "metadata": {},
   "outputs": [],
   "source": [
    "test_data['trans_date_trans_time'] = pd.to_datetime(test_data['trans_date_trans_time'])\n",
    "test_data['hour'] = test_data['trans_date_trans_time'].dt.hour\n",
    "test_data['day'] = test_data['trans_date_trans_time'].dt.day\n",
    "test_data['weekday'] = test_data['trans_date_trans_time'].dt.weekday\n",
    "test_data['month'] = test_data['trans_date_trans_time'].dt.month\n"
   ]
  },
  {
   "cell_type": "code",
   "execution_count": null,
   "id": "08c48ce9-7a08-4e1d-94d3-a97e4b6d1b66",
   "metadata": {},
   "outputs": [],
   "source": [
    "train_data['dob'] = pd.to_datetime(train_data['dob'])\n",
    "train_data['age'] = train_data['trans_date_trans_time'].dt.year - train_data['dob'].dt.year\n",
    "train_data.drop(columns=['dob'], inplace=True)\n"
   ]
  },
  {
   "cell_type": "code",
   "execution_count": null,
   "id": "a14134ac-fcdf-455f-881a-f097f6dff12b",
   "metadata": {},
   "outputs": [],
   "source": [
    "test_data['dob'] = pd.to_datetime(test_data['dob'])\n",
    "test_data['age'] = test_data['trans_date_trans_time'].dt.year - test_data['dob'].dt.year\n",
    "test_data.drop(columns=['dob'], inplace=True)\n"
   ]
  },
  {
   "cell_type": "code",
   "execution_count": null,
   "id": "b0ef0167-9387-46d8-acc8-ffd89fb60c15",
   "metadata": {},
   "outputs": [],
   "source": [
    "train_data.drop(columns=['trans_date_trans_time'], inplace=True)"
   ]
  },
  {
   "cell_type": "code",
   "execution_count": null,
   "id": "0a040a2c-0d02-4062-9d39-e3c5db97607d",
   "metadata": {},
   "outputs": [],
   "source": [
    "test_data.drop(columns=['trans_date_trans_time'], inplace=True)"
   ]
  },
  {
   "cell_type": "code",
   "execution_count": null,
   "id": "0446b284-fcea-49ed-9fc2-acf6af2e5a01",
   "metadata": {},
   "outputs": [],
   "source": [
    "freq_maps = {}\n",
    "for col in ['city', 'state', 'job','merchant','category']:\n",
    "    freq = train_data[col].value_counts(normalize=True)\n",
    "    train_data[col + '_encoded'] = train_data[col].map(freq)\n",
    "    train_data.drop(columns=[col], inplace=True)\n",
    "    freq_maps[col] = freq  # Save the mapping"
   ]
  },
  {
   "cell_type": "code",
   "execution_count": null,
   "id": "c03a4e5d-2231-4647-a298-823a3564bf3a",
   "metadata": {},
   "outputs": [],
   "source": [
    "for col in ['city', 'state', 'job','merchant','category']:\n",
    "    test_data[col + '_encoded'] = test_data[col].map(freq_maps[col])\n",
    "    test_data.drop(columns=[col], inplace=True)"
   ]
  },
  {
   "cell_type": "code",
   "execution_count": null,
   "id": "b7871de3-7d1a-4e36-9f70-b4dc7a5a452a",
   "metadata": {
    "scrolled": true
   },
   "outputs": [],
   "source": [
    "train_data.head()"
   ]
  },
  {
   "cell_type": "code",
   "execution_count": null,
   "id": "eda29233-a1d2-47c0-a4a7-d11c43e6be4d",
   "metadata": {},
   "outputs": [],
   "source": [
    "test_data.head()"
   ]
  },
  {
   "cell_type": "code",
   "execution_count": null,
   "id": "4af128ee-7caf-4721-948c-80f7fb577878",
   "metadata": {},
   "outputs": [],
   "source": [
    "train_data.isnull().sum()"
   ]
  },
  {
   "cell_type": "code",
   "execution_count": null,
   "id": "bc6f975e-c2f3-4a3a-8784-234c664ceed0",
   "metadata": {},
   "outputs": [],
   "source": [
    "test_data.isnull().sum()"
   ]
  },
  {
   "cell_type": "code",
   "execution_count": null,
   "id": "2b976ac8-89ec-48c4-b73c-1078c1a3ed18",
   "metadata": {},
   "outputs": [],
   "source": [
    "for col in ['city_encoded', 'job_encoded']:\n",
    "    test_data[col] = test_data[col].fillna(0)"
   ]
  },
  {
   "cell_type": "code",
   "execution_count": null,
   "id": "4494f4bc-5b54-4549-a7b9-7e8d7f142a09",
   "metadata": {
    "scrolled": true
   },
   "outputs": [],
   "source": [
    "test_data.head()"
   ]
  },
  {
   "cell_type": "code",
   "execution_count": null,
   "id": "47ff9ab3-f604-4fb2-bcba-91cb5ef81e96",
   "metadata": {},
   "outputs": [],
   "source": [
    "test_data.isnull().sum()"
   ]
  },
  {
   "cell_type": "code",
   "execution_count": null,
   "id": "b621cdf2-1a16-468c-8b4d-841ce82c2e7c",
   "metadata": {},
   "outputs": [],
   "source": [
    "X_train = train_data.drop(\"is_fraud\", axis=1)\n",
    "y_train = train_data[\"is_fraud\"]"
   ]
  },
  {
   "cell_type": "code",
   "execution_count": null,
   "id": "f9f8b1fc-3b22-4cf9-8a18-ee7a845370a7",
   "metadata": {},
   "outputs": [],
   "source": [
    "X_test = test_data.drop(\"is_fraud\", axis=1)\n",
    "y_test = test_data[\"is_fraud\"]"
   ]
  },
  {
   "cell_type": "code",
   "execution_count": null,
   "id": "92beac2f-5e73-40f5-b229-edc9af13cee3",
   "metadata": {},
   "outputs": [],
   "source": [
    "scaler = StandardScaler()\n",
    "X_train = scaler.fit_transform(X_train)\n",
    "X_test = scaler.transform(X_test)"
   ]
  },
  {
   "cell_type": "code",
   "execution_count": null,
   "id": "274cecfc-b463-40b5-9dbd-290b27750385",
   "metadata": {},
   "outputs": [],
   "source": [
    "models = {\n",
    "    \"Logistic Regression\": LogisticRegression(max_iter=1000, class_weight=\"balanced\"),\n",
    "    \"Decision Tree\": DecisionTreeClassifier(class_weight=\"balanced\", random_state=42),\n",
    "    \"Random Forest\": RandomForestClassifier(n_estimators=100, class_weight=\"balanced\", random_state=42)\n",
    "}"
   ]
  },
  {
   "cell_type": "code",
   "execution_count": null,
   "id": "8873bf78-9cbc-4141-8d1f-2b6727e77db1",
   "metadata": {},
   "outputs": [],
   "source": [
    "for name, model in models.items():\n",
    "    model.fit(X_train, y_train)\n",
    "    print(f\"{name} trained.\")"
   ]
  },
  {
   "cell_type": "code",
   "execution_count": null,
   "id": "a0657d1f-b611-4bad-8a69-aea892250c32",
   "metadata": {
    "scrolled": true
   },
   "outputs": [],
   "source": [
    "for name, model in models.items():\n",
    "    y_pred = model.predict(X_test)\n",
    "    y_proba = model.predict_proba(X_test)[:,1]\n",
    "    print(f\"\\n=== {name} ===\")\n",
    "    print(classification_report(y_test, y_pred))\n",
    "    print(\"ROC-AUC:\", roc_auc_score(y_test, y_proba))\n"
   ]
  },
  {
   "cell_type": "markdown",
   "id": "a87ac749-dfb3-463b-a794-9e660f7cc189",
   "metadata": {},
   "source": [
    "### Analysis:\n",
    "**Logistic Regression** achieved the highest recall (77%) and the best ROC-AUC score (0.84), indicating strong ability to detect fraud cases. However, it suffers from extremely low precision (1%), meaning a high number of false positives.\n",
    "\n",
    "**Decision Tree** provided a better balance between precision and recall, resulting in the highest F1-score (0.19) for the fraud class. It also showed a very high overall accuracy (98%) and a strong ROC-AUC score (0.83).\n",
    "\n",
    "**Random Forest**, while commonly effective, performed the worst in this scenario. Its recall (53%) and ROC-AUC (0.64) were significantly lower than the other two models, making it less suitable for this imbalanced fraud detection task.\n",
    "\n"
   ]
  },
  {
   "cell_type": "code",
   "execution_count": null,
   "id": "c1c06ef9-36ee-4c85-864e-1e68c539a5ae",
   "metadata": {},
   "outputs": [],
   "source": [
    "import pickle as pk"
   ]
  },
  {
   "cell_type": "code",
   "execution_count": null,
   "id": "1307567c-a930-4765-8531-d4b3f3ee8832",
   "metadata": {},
   "outputs": [],
   "source": [
    "### Create a Pickle file using serialization \n",
    "for model_name, trained_model in models.items():\n",
    "    file_name = model_name.lower().replace(\" \", \"_\") + \".pkl\"\n",
    "    model_file = open(file_name, \"wb\")\n",
    "    pk.dump(trained_model, model_file)\n",
    "    model_file.close()\n"
   ]
  },
  {
   "cell_type": "code",
   "execution_count": null,
   "id": "afa87a2f-38c1-4a02-b2ed-14eb5842ab0e",
   "metadata": {},
   "outputs": [],
   "source": [
    "with open(\"scaler.pkl\", \"wb\") as f:\n",
    "    pk.dump(scaler, f)"
   ]
  },
  {
   "cell_type": "code",
   "execution_count": null,
   "id": "989338cf-ee46-46f0-a184-57cceb9ebdb0",
   "metadata": {},
   "outputs": [],
   "source": [
    "with open('freq_maps.pkl', 'wb') as f:\n",
    "    pk.dump(freq_maps, f)"
   ]
  },
  {
   "cell_type": "code",
   "execution_count": null,
   "id": "514d792e-24bc-4e64-9f0a-f5e6b77c5b67",
   "metadata": {},
   "outputs": [],
   "source": [
    "import numpy as np"
   ]
  },
  {
   "cell_type": "code",
   "execution_count": null,
   "id": "a39e59ed-25c9-45fe-8339-d52a0f011282",
   "metadata": {},
   "outputs": [],
   "source": [
    "test_input =[X_test[0]] \n",
    "for name, model in models.items():\n",
    "    prediction = model.predict(test_input)\n",
    "    print(f\"{name} prediction: {prediction}\")"
   ]
  },
  {
   "cell_type": "code",
   "execution_count": null,
   "id": "c9c24938-42f9-438d-b06f-523360a9e1cd",
   "metadata": {},
   "outputs": [],
   "source": []
  }
 ],
 "metadata": {
  "kernelspec": {
   "display_name": "Python [conda env:base]",
   "language": "python",
   "name": "conda-base-py"
  },
  "language_info": {
   "codemirror_mode": {
    "name": "ipython",
    "version": 3
   },
   "file_extension": ".py",
   "mimetype": "text/x-python",
   "name": "python",
   "nbconvert_exporter": "python",
   "pygments_lexer": "ipython3",
   "version": "3.12.7"
  }
 },
 "nbformat": 4,
 "nbformat_minor": 5
}
